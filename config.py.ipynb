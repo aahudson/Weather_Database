{
 "cells": [
  {
   "cell_type": "code",
   "execution_count": 1,
   "id": "dfca6403",
   "metadata": {},
   "outputs": [],
   "source": [
    "weather_api_key = \"e9cf6b20fbdc83c4a18d0a77b16b436d\""
   ]
  },
  {
   "cell_type": "code",
   "execution_count": null,
   "id": "b4f55d6f",
   "metadata": {},
   "outputs": [],
   "source": []
  }
 ],
 "metadata": {
  "kernelspec": {
   "display_name": "Python 3 (ipykernel)",
   "language": "python",
   "name": "python3"
  },
  "language_info": {
   "codemirror_mode": {
    "name": "ipython",
    "version": 3
   },
   "file_extension": ".py",
   "mimetype": "text/x-python",
   "name": "python",
   "nbconvert_exporter": "python",
   "pygments_lexer": "ipython3",
   "version": "3.7.15"
  }
 },
 "nbformat": 4,
 "nbformat_minor": 5
}
